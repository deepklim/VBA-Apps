{
 "cells": [
  {
   "cell_type": "code",
   "execution_count": 1,
   "metadata": {},
   "outputs": [],
   "source": [
    "import requests\n",
    "import urllib\n",
    "import xml.etree.cElementTree as ET"
   ]
  },
  {
   "cell_type": "code",
   "execution_count": 2,
   "metadata": {},
   "outputs": [],
   "source": [
    "def lat_long(my_loc):\n",
    "    \n",
    "    # API key found at https://developers.google.com/maps/documentation/javascript/get-api-key\n",
    "    my_key = '<API key>'\n",
    "    \n",
    "    url = \"https://maps.googleapis.com/maps/api/geocode/xml?\"\n",
    "    url_vars = {'address': my_loc, 'key': my_key}\n",
    "    my_query = url + urllib.parse.urlencode(url_vars)\n",
    "    xml_request = requests.get(my_query)\n",
    "\n",
    "    # Check if received a response\n",
    "    if xml_request.status_code == 200:\n",
    "        root = ET.fromstring(xml_request.text)\n",
    "    else:\n",
    "        return 'Error: Status code = {}'.format(xml_request.status_code)\n",
    "\n",
    "    # Check if response contains status = 'OK'\n",
    "    api_status = root.find('status').text\n",
    "    if api_status != 'OK':\n",
    "        return 'Error: API status = {}'.format(api_status)\n",
    "\n",
    "    lat = root.find('result/geometry/location/lat').text\n",
    "    lng = root.find('result/geometry/location/lng').text\n",
    "\n",
    "    return '{}, {}'.format(lat, lng)"
   ]
  },
  {
   "cell_type": "code",
   "execution_count": 3,
   "metadata": {},
   "outputs": [
    {
     "data": {
      "text/plain": [
       "'45.5016889, -73.5672560'"
      ]
     },
     "execution_count": 3,
     "metadata": {},
     "output_type": "execute_result"
    }
   ],
   "source": [
    "lat_long('Montréal, Québec')"
   ]
  },
  {
   "cell_type": "code",
   "execution_count": 4,
   "metadata": {},
   "outputs": [
    {
     "data": {
      "text/plain": [
       "'45.4215296, -75.6971931'"
      ]
     },
     "execution_count": 4,
     "metadata": {},
     "output_type": "execute_result"
    }
   ],
   "source": [
    "lat_long('Ottawa')"
   ]
  }
 ],
 "metadata": {
  "kernelspec": {
   "display_name": "Python 3",
   "language": "python",
   "name": "python3"
  },
  "language_info": {
   "codemirror_mode": {
    "name": "ipython",
    "version": 3
   },
   "file_extension": ".py",
   "mimetype": "text/x-python",
   "name": "python",
   "nbconvert_exporter": "python",
   "pygments_lexer": "ipython3",
   "version": "3.6.4"
  }
 },
 "nbformat": 4,
 "nbformat_minor": 2
}
